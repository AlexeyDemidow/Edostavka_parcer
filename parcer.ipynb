{
 "cells": [
  {
   "cell_type": "code",
   "execution_count": null,
   "id": "initial_id",
   "metadata": {
    "collapsed": true,
    "ExecuteTime": {
     "end_time": "2023-08-10T09:13:21.359386Z",
     "start_time": "2023-08-10T09:13:21.356573800Z"
    },
    "pycharm": {
     "name": "#%%\n"
    }
   },
   "outputs": [],
   "source": [
    "# Парсинг КБЖУ продуктов сайта Е-доставка"
   ]
  },
  {
   "cell_type": "code",
   "execution_count": null,
   "outputs": [],
   "source": [
    "from bs4 import BeautifulSoup\n",
    "import re\n",
    "from selenium import webdriver\n",
    "from selenium.webdriver.chrome.service import Service as ChromeService\n",
    "from webdriver_manager.chrome import ChromeDriverManager\n",
    "import os\n",
    "from selenium.webdriver.common.by import By\n",
    "from selenium.webdriver.chrome.options import Options\n",
    "from selenium.webdriver.common.keys import Keys\n",
    "from selenium.webdriver.support.ui import WebDriverWait\n",
    "from selenium.webdriver.support import expected_conditions as EC\n",
    "import pandas as pd\n",
    "from tqdm import tqdm"
   ],
   "metadata": {
    "collapsed": false,
    "ExecuteTime": {
     "end_time": "2023-08-10T09:13:22.640530500Z",
     "start_time": "2023-08-10T09:13:21.362376200Z"
    },
    "pycharm": {
     "name": "#%%\n"
    }
   },
   "id": "ea8390e71d2d9f90"
  },
  {
   "cell_type": "code",
   "execution_count": 96,
   "outputs": [],
   "source": [
    "driver = webdriver.Chrome(service=ChromeService(ChromeDriverManager().install()))"
   ],
   "metadata": {
    "collapsed": false,
    "ExecuteTime": {
     "end_time": "2023-08-10T09:13:27.381240300Z",
     "start_time": "2023-08-10T09:13:22.641533700Z"
    },
    "pycharm": {
     "name": "#%%\n"
    }
   },
   "id": "593c34276d220cc6"
  },
  {
   "cell_type": "code",
   "execution_count": 97,
   "outputs": [
    {
     "ename": "TimeoutException",
     "evalue": "Message: \nStacktrace:\n\tGetHandleVerifier [0x00007FF6D7957D12+55474]\n\t(No symbol) [0x00007FF6D78C77C2]\n\t(No symbol) [0x00007FF6D777E0EB]\n\t(No symbol) [0x00007FF6D77BEBAC]\n\t(No symbol) [0x00007FF6D77BED2C]\n\t(No symbol) [0x00007FF6D77F9F77]\n\t(No symbol) [0x00007FF6D77DF19F]\n\t(No symbol) [0x00007FF6D77F7EF2]\n\t(No symbol) [0x00007FF6D77DEF33]\n\t(No symbol) [0x00007FF6D77B3D41]\n\t(No symbol) [0x00007FF6D77B4F84]\n\tGetHandleVerifier [0x00007FF6D7CBB762+3609346]\n\tGetHandleVerifier [0x00007FF6D7D11A80+3962400]\n\tGetHandleVerifier [0x00007FF6D7D09F0F+3930799]\n\tGetHandleVerifier [0x00007FF6D79F3CA6+694342]\n\t(No symbol) [0x00007FF6D78D2218]\n\t(No symbol) [0x00007FF6D78CE484]\n\t(No symbol) [0x00007FF6D78CE5B2]\n\t(No symbol) [0x00007FF6D78BEE13]\n\tBaseThreadInitThunk [0x00007FFD239B257D+29]\n\tRtlUserThreadStart [0x00007FFD2512AA78+40]\n",
     "output_type": "error",
     "traceback": [
      "\u001B[1;31m---------------------------------------------------------------------------\u001B[0m",
      "\u001B[1;31mTimeoutException\u001B[0m                          Traceback (most recent call last)",
      "Cell \u001B[1;32mIn[97], line 41\u001B[0m\n\u001B[0;32m     39\u001B[0m \u001B[38;5;28;01melse\u001B[39;00m:\n\u001B[0;32m     40\u001B[0m     driver\u001B[38;5;241m.\u001B[39mexecute_script(\u001B[38;5;124m\"\u001B[39m\u001B[38;5;124mwindow.scrollTo(0, 1080)\u001B[39m\u001B[38;5;124m\"\u001B[39m)\n\u001B[1;32m---> 41\u001B[0m     \u001B[43mWebDriverWait\u001B[49m\u001B[43m(\u001B[49m\u001B[43mdriver\u001B[49m\u001B[43m,\u001B[49m\u001B[43m \u001B[49m\u001B[38;5;241;43m10\u001B[39;49m\u001B[43m)\u001B[49m\u001B[38;5;241;43m.\u001B[39;49m\u001B[43muntil\u001B[49m\u001B[43m(\u001B[49m\u001B[43mEC\u001B[49m\u001B[38;5;241;43m.\u001B[39;49m\u001B[43mpresence_of_element_located\u001B[49m\u001B[43m(\u001B[49m\u001B[43m(\u001B[49m\u001B[43mBy\u001B[49m\u001B[38;5;241;43m.\u001B[39;49m\u001B[43mCLASS_NAME\u001B[49m\u001B[43m,\u001B[49m\u001B[43m \u001B[49m\u001B[38;5;124;43m'\u001B[39;49m\u001B[38;5;124;43mcard-image_link__lTrk0\u001B[39;49m\u001B[38;5;124;43m'\u001B[39;49m\u001B[43m)\u001B[49m\u001B[43m)\u001B[49m\u001B[43m)\u001B[49m\n\u001B[0;32m     42\u001B[0m     soup \u001B[38;5;241m=\u001B[39m BeautifulSoup(driver\u001B[38;5;241m.\u001B[39mpage_source, \u001B[38;5;124m'\u001B[39m\u001B[38;5;124mhtml.parser\u001B[39m\u001B[38;5;124m'\u001B[39m)\n\u001B[0;32m     43\u001B[0m     \u001B[38;5;28;01mwith\u001B[39;00m \u001B[38;5;28mopen\u001B[39m(\u001B[38;5;124mf\u001B[39m\u001B[38;5;124m'\u001B[39m\u001B[38;5;124mcategory_products_page/pages/page_\u001B[39m\u001B[38;5;132;01m{\u001B[39;00mi\u001B[38;5;132;01m}\u001B[39;00m\u001B[38;5;124m.html\u001B[39m\u001B[38;5;124m'\u001B[39m, \u001B[38;5;124m'\u001B[39m\u001B[38;5;124mw\u001B[39m\u001B[38;5;124m'\u001B[39m, encoding\u001B[38;5;241m=\u001B[39m\u001B[38;5;124m\"\u001B[39m\u001B[38;5;124mutf-8\u001B[39m\u001B[38;5;124m\"\u001B[39m) \u001B[38;5;28;01mas\u001B[39;00m file:\n",
      "File \u001B[1;32m~\\AppData\\Local\\Programs\\Python\\Python311\\Lib\\site-packages\\selenium\\webdriver\\support\\wait.py:95\u001B[0m, in \u001B[0;36mWebDriverWait.until\u001B[1;34m(self, method, message)\u001B[0m\n\u001B[0;32m     93\u001B[0m     \u001B[38;5;28;01mif\u001B[39;00m time\u001B[38;5;241m.\u001B[39mmonotonic() \u001B[38;5;241m>\u001B[39m end_time:\n\u001B[0;32m     94\u001B[0m         \u001B[38;5;28;01mbreak\u001B[39;00m\n\u001B[1;32m---> 95\u001B[0m \u001B[38;5;28;01mraise\u001B[39;00m TimeoutException(message, screen, stacktrace)\n",
      "\u001B[1;31mTimeoutException\u001B[0m: Message: \nStacktrace:\n\tGetHandleVerifier [0x00007FF6D7957D12+55474]\n\t(No symbol) [0x00007FF6D78C77C2]\n\t(No symbol) [0x00007FF6D777E0EB]\n\t(No symbol) [0x00007FF6D77BEBAC]\n\t(No symbol) [0x00007FF6D77BED2C]\n\t(No symbol) [0x00007FF6D77F9F77]\n\t(No symbol) [0x00007FF6D77DF19F]\n\t(No symbol) [0x00007FF6D77F7EF2]\n\t(No symbol) [0x00007FF6D77DEF33]\n\t(No symbol) [0x00007FF6D77B3D41]\n\t(No symbol) [0x00007FF6D77B4F84]\n\tGetHandleVerifier [0x00007FF6D7CBB762+3609346]\n\tGetHandleVerifier [0x00007FF6D7D11A80+3962400]\n\tGetHandleVerifier [0x00007FF6D7D09F0F+3930799]\n\tGetHandleVerifier [0x00007FF6D79F3CA6+694342]\n\t(No symbol) [0x00007FF6D78D2218]\n\t(No symbol) [0x00007FF6D78CE484]\n\t(No symbol) [0x00007FF6D78CE5B2]\n\t(No symbol) [0x00007FF6D78BEE13]\n\tBaseThreadInitThunk [0x00007FFD239B257D+29]\n\tRtlUserThreadStart [0x00007FFD2512AA78+40]\n"
     ]
    }
   ],
   "source": [
    "options = Options()\n",
    "# options.add_argument('--headless')\n",
    "# options.add_argument(\"--disable-infobars\")\n",
    "# options.add_argument(\"--disable-extensions\")\n",
    "options.add_argument(\"--start-maximized\")\n",
    "options.add_argument('--blink-settings=imagesEnabled=false')\n",
    "driver = webdriver.Chrome(options=options)\n",
    "\n",
    "for i in range(1, 11): # Проверять количество страниц\n",
    "\n",
    "    # https://edostavka.by/category/5138?page={i} Овощи и фрукты (2 страницы)\n",
    "    # https://edostavka.by/category/5194?page={i} Молоко и яйца (10 страниц)\n",
    "    # https://edostavka.by/category/5329?page={i} Хлеб и выпечка (3 страницы)\n",
    "    # https://edostavka.by/category/5131?page={i} Мясо, птица, колбасы (5 страниц)\n",
    "    # https://edostavka.by/category/5185?page={i} Рыба, морепродукты (3 страницы)\n",
    "    # https://edostavka.by/category/5258?page={i} Замороженные продукты (3 страницы)\n",
    "    # https://edostavka.by/category/5034?page={i} Крупы, макароны, сахар (8 страниц)\n",
    "    # https://edostavka.by/category/5199?page={i} Масло, консервация, соусы (5 страниц)\n",
    "    # https://edostavka.by/category/5091?page={i} Чипсы, орехи, снеки (3 страницы)\n",
    "    # https://edostavka.by/category/5160?page={i} Сладости (7 страниц)\n",
    "    # https://edostavka.by/category/4996?page={i} Здоровое питание (3 страницы)\n",
    "    # https://edostavka.by/category/4974?page={i} Кулинария (2 страницы)\n",
    "    \n",
    "    driver.get(f'https://edostavka.by/category/5185?page={i}')\n",
    "    \n",
    "    html = driver.find_element(By.TAG_NAME, 'html')\n",
    "    for n in range(100):\n",
    "        html.send_keys(Keys.END)\n",
    "    \n",
    "    if driver.find_elements(By.XPATH, '/html/body/div[5]/div/div[2]/div/div[2]/button[2]'):\n",
    "        WebDriverWait(driver, 5).until(EC.element_to_be_clickable((By.XPATH, '/html/body/div[5]/div/div[2]/div/div[2]/button[2]'))).click()\n",
    "        for n in range(100):\n",
    "            html.send_keys(Keys.END)\n",
    "        \n",
    "        WebDriverWait(driver, 10).until(EC.presence_of_element_located((By.CLASS_NAME, 'card-image_link__lTrk0')))\n",
    "        soup = BeautifulSoup(driver.page_source, 'html.parser')\n",
    "        with open(f'category_products_page/pages/page_{i}.html', 'w', encoding=\"utf-8\") as file:\n",
    "            file.write(str(soup))\n",
    "    else:\n",
    "        driver.execute_script(\"window.scrollTo(0, 1080)\")\n",
    "        WebDriverWait(driver, 10).until(EC.presence_of_element_located((By.CLASS_NAME, 'card-image_link__lTrk0')))\n",
    "        soup = BeautifulSoup(driver.page_source, 'html.parser')\n",
    "        with open(f'category_products_page/pages/page_{i}.html', 'w', encoding=\"utf-8\") as file:\n",
    "            file.write(str(soup))\n",
    "\n",
    "driver.quit()"
   ],
   "metadata": {
    "collapsed": false,
    "ExecuteTime": {
     "end_time": "2023-08-10T13:20:29.618802500Z",
     "start_time": "2023-08-10T13:20:06.399325100Z"
    },
    "pycharm": {
     "name": "#%%\n"
    }
   },
   "id": "ed7584c910e3e5c6"
  },
  {
   "cell_type": "code",
   "execution_count": 98,
   "outputs": [],
   "source": [
    "product_links = []\n",
    "link = 'https://edostavka.by'\n",
    "for file in os.listdir('category_products_page/pages'):\n",
    "    soup = BeautifulSoup(open(f'category_products_page/pages/{file}', 'r', encoding=\"utf-8\").read(), 'html.parser')\n",
    "    for card_div_tag in soup.find_all('div', class_='adult-wrapper_adult__eCCJW vertical_product__Q8mUI'):\n",
    "        product_link = card_div_tag.find('a', class_='card-image_link__lTrk0').get('href')\n",
    "        product_link_ready = link + product_link\n",
    "        product_links.append(product_link_ready)"
   ],
   "metadata": {
    "collapsed": false,
    "ExecuteTime": {
     "end_time": "2023-08-10T13:20:34.187661Z",
     "start_time": "2023-08-10T13:20:32.337596300Z"
    },
    "pycharm": {
     "name": "#%%\n"
    }
   },
   "id": "17b65b138ead3c0f"
  },
  {
   "cell_type": "code",
   "execution_count": 103,
   "outputs": [
    {
     "name": "stderr",
     "output_type": "stream",
     "text": [
      "  3%|▎         | 34/1090 [01:33<48:38,  2.76s/it] \n"
     ]
    },
    {
     "ename": "TimeoutException",
     "evalue": "Message: \nStacktrace:\n\tGetHandleVerifier [0x00007FF6D7957D12+55474]\n\t(No symbol) [0x00007FF6D78C77C2]\n\t(No symbol) [0x00007FF6D777E0EB]\n\t(No symbol) [0x00007FF6D77BEBAC]\n\t(No symbol) [0x00007FF6D77BED2C]\n\t(No symbol) [0x00007FF6D77F9F77]\n\t(No symbol) [0x00007FF6D77DF19F]\n\t(No symbol) [0x00007FF6D77F7EF2]\n\t(No symbol) [0x00007FF6D77DEF33]\n\t(No symbol) [0x00007FF6D77B3D41]\n\t(No symbol) [0x00007FF6D77B4F84]\n\tGetHandleVerifier [0x00007FF6D7CBB762+3609346]\n\tGetHandleVerifier [0x00007FF6D7D11A80+3962400]\n\tGetHandleVerifier [0x00007FF6D7D09F0F+3930799]\n\tGetHandleVerifier [0x00007FF6D79F3CA6+694342]\n\t(No symbol) [0x00007FF6D78D2218]\n\t(No symbol) [0x00007FF6D78CE484]\n\t(No symbol) [0x00007FF6D78CE5B2]\n\t(No symbol) [0x00007FF6D78BEE13]\n\tBaseThreadInitThunk [0x00007FFD239B257D+29]\n\tRtlUserThreadStart [0x00007FFD2512AA78+40]\n",
     "output_type": "error",
     "traceback": [
      "\u001B[1;31m---------------------------------------------------------------------------\u001B[0m",
      "\u001B[1;31mTimeoutException\u001B[0m                          Traceback (most recent call last)",
      "Cell \u001B[1;32mIn[103], line 24\u001B[0m\n\u001B[0;32m     22\u001B[0m \u001B[38;5;28;01melse\u001B[39;00m:\n\u001B[0;32m     23\u001B[0m     driver\u001B[38;5;241m.\u001B[39mexecute_script(\u001B[38;5;124m\"\u001B[39m\u001B[38;5;124mwindow.scrollTo(0, 700)\u001B[39m\u001B[38;5;124m\"\u001B[39m)\n\u001B[1;32m---> 24\u001B[0m     \u001B[43mWebDriverWait\u001B[49m\u001B[43m(\u001B[49m\u001B[43mdriver\u001B[49m\u001B[43m,\u001B[49m\u001B[43m \u001B[49m\u001B[38;5;241;43m5\u001B[39;49m\u001B[43m)\u001B[49m\u001B[38;5;241;43m.\u001B[39;49m\u001B[43muntil\u001B[49m\u001B[43m(\u001B[49m\u001B[43mEC\u001B[49m\u001B[38;5;241;43m.\u001B[39;49m\u001B[43melement_to_be_clickable\u001B[49m\u001B[43m(\u001B[49m\u001B[43m(\u001B[49m\u001B[43mBy\u001B[49m\u001B[38;5;241;43m.\u001B[39;49m\u001B[43mXPATH\u001B[49m\u001B[43m,\u001B[49m\u001B[43m \u001B[49m\u001B[38;5;124;43m'\u001B[39;49m\u001B[38;5;124;43m//*[@id=\u001B[39;49m\u001B[38;5;124;43m\"\u001B[39;49m\u001B[38;5;124;43mtab_specifications\u001B[39;49m\u001B[38;5;124;43m\"\u001B[39;49m\u001B[38;5;124;43m]\u001B[39;49m\u001B[38;5;124;43m'\u001B[39;49m\u001B[43m)\u001B[49m\u001B[43m)\u001B[49m\u001B[43m)\u001B[49m\u001B[38;5;241m.\u001B[39mclick()\n\u001B[0;32m     25\u001B[0m     soup \u001B[38;5;241m=\u001B[39m BeautifulSoup(driver\u001B[38;5;241m.\u001B[39mpage_source, \u001B[38;5;124m'\u001B[39m\u001B[38;5;124mhtml.parser\u001B[39m\u001B[38;5;124m'\u001B[39m)\n\u001B[0;32m     26\u001B[0m     \u001B[38;5;28;01mwith\u001B[39;00m \u001B[38;5;28mopen\u001B[39m(\u001B[38;5;124mf\u001B[39m\u001B[38;5;124m'\u001B[39m\u001B[38;5;124mcategory_products_page/product_pages/\u001B[39m\u001B[38;5;132;01m{\u001B[39;00mproduct_id\u001B[38;5;132;01m}\u001B[39;00m\u001B[38;5;124m.html\u001B[39m\u001B[38;5;124m'\u001B[39m, \u001B[38;5;124m'\u001B[39m\u001B[38;5;124mw\u001B[39m\u001B[38;5;124m'\u001B[39m, encoding\u001B[38;5;241m=\u001B[39m\u001B[38;5;124m\"\u001B[39m\u001B[38;5;124mutf-8\u001B[39m\u001B[38;5;124m\"\u001B[39m) \u001B[38;5;28;01mas\u001B[39;00m file:\n",
      "File \u001B[1;32m~\\AppData\\Local\\Programs\\Python\\Python311\\Lib\\site-packages\\selenium\\webdriver\\support\\wait.py:95\u001B[0m, in \u001B[0;36mWebDriverWait.until\u001B[1;34m(self, method, message)\u001B[0m\n\u001B[0;32m     93\u001B[0m     \u001B[38;5;28;01mif\u001B[39;00m time\u001B[38;5;241m.\u001B[39mmonotonic() \u001B[38;5;241m>\u001B[39m end_time:\n\u001B[0;32m     94\u001B[0m         \u001B[38;5;28;01mbreak\u001B[39;00m\n\u001B[1;32m---> 95\u001B[0m \u001B[38;5;28;01mraise\u001B[39;00m TimeoutException(message, screen, stacktrace)\n",
      "\u001B[1;31mTimeoutException\u001B[0m: Message: \nStacktrace:\n\tGetHandleVerifier [0x00007FF6D7957D12+55474]\n\t(No symbol) [0x00007FF6D78C77C2]\n\t(No symbol) [0x00007FF6D777E0EB]\n\t(No symbol) [0x00007FF6D77BEBAC]\n\t(No symbol) [0x00007FF6D77BED2C]\n\t(No symbol) [0x00007FF6D77F9F77]\n\t(No symbol) [0x00007FF6D77DF19F]\n\t(No symbol) [0x00007FF6D77F7EF2]\n\t(No symbol) [0x00007FF6D77DEF33]\n\t(No symbol) [0x00007FF6D77B3D41]\n\t(No symbol) [0x00007FF6D77B4F84]\n\tGetHandleVerifier [0x00007FF6D7CBB762+3609346]\n\tGetHandleVerifier [0x00007FF6D7D11A80+3962400]\n\tGetHandleVerifier [0x00007FF6D7D09F0F+3930799]\n\tGetHandleVerifier [0x00007FF6D79F3CA6+694342]\n\t(No symbol) [0x00007FF6D78D2218]\n\t(No symbol) [0x00007FF6D78CE484]\n\t(No symbol) [0x00007FF6D78CE5B2]\n\t(No symbol) [0x00007FF6D78BEE13]\n\tBaseThreadInitThunk [0x00007FFD239B257D+29]\n\tRtlUserThreadStart [0x00007FFD2512AA78+40]\n"
     ]
    }
   ],
   "source": [
    "options = Options()\n",
    "# options.add_argument('--headless')\n",
    "# options.add_argument(\"--disable-infobars\")\n",
    "# options.add_argument(\"--disable-extensions\")\n",
    "options.add_argument(\"--start-maximized\")\n",
    "options.add_argument('--blink-settings=imagesEnabled=false')\n",
    "driver = webdriver.Chrome(options=options)\n",
    "\n",
    "for product_link in tqdm(product_links):\n",
    "    product_id = product_link.split('https://edostavka.by/product/')[1]\n",
    "    if not f'{product_id}.html' in os.listdir('category_products_page/product_pages'):        \n",
    "        driver.get(product_link)\n",
    "        if driver.find_elements(By.XPATH, '/html/body/div[5]/div/div[2]/div/div[2]/button[2]') or driver.find_elements(By.XPATH, '/html/body/div[5]/div/div[2]/div/div/button[1]/span'):\n",
    "            WebDriverWait(driver, 15).until(EC.element_to_be_clickable((By.XPATH, '/html/body/div[5]/div/div[2]/div/div/button[1]/span'))).click()\n",
    "            # WebDriverWait(driver, 15).until(EC.element_to_be_clickable((By.XPATH, '/html/body/div[5]/div/div[2]/div/div[2]/button[2]'))).click()\n",
    "            driver.execute_script(\"window.scrollTo(0, 700)\")\n",
    "            if driver.find_elements(By.XPATH, '//*[@id=\"tab_specifications\"]'):\n",
    "                WebDriverWait(driver, 10).until(EC.element_to_be_clickable((By.XPATH, '//*[@id=\"tab_specifications\"]'))).click()\n",
    "            soup = BeautifulSoup(driver.page_source, 'html.parser')\n",
    "            with open(f'category_products_page/product_pages/{product_id}.html', 'w', encoding=\"utf-8\") as file:\n",
    "                file.write(str(soup))\n",
    "        else:\n",
    "            driver.execute_script(\"window.scrollTo(0, 700)\")\n",
    "            WebDriverWait(driver, 5).until(EC.element_to_be_clickable((By.XPATH, '//*[@id=\"tab_specifications\"]'))).click()\n",
    "            soup = BeautifulSoup(driver.page_source, 'html.parser')\n",
    "            with open(f'category_products_page/product_pages/{product_id}.html', 'w', encoding=\"utf-8\") as file:\n",
    "                file.write(str(soup))\n",
    "\n",
    "driver.quit()"
   ],
   "metadata": {
    "collapsed": false,
    "ExecuteTime": {
     "end_time": "2023-08-10T13:23:21.043134400Z",
     "start_time": "2023-08-10T13:20:36.707450100Z"
    },
    "pycharm": {
     "name": "#%%\n"
    }
   },
   "id": "f19b05fb121583de"
  },
  {
   "cell_type": "code",
   "execution_count": 104,
   "outputs": [
    {
     "name": "stderr",
     "output_type": "stream",
     "text": [
      "100%|██████████| 299/299 [00:12<00:00, 23.65it/s]\n"
     ]
    }
   ],
   "source": [
    "full_df = pd.DataFrame()\n",
    "\n",
    "for file in tqdm(os.listdir('category_products_page/product_pages')):\n",
    "    try:\n",
    "        soup = BeautifulSoup(open(f'category_products_page/product_pages/{file}', 'r', encoding=\"utf-8\").read(), 'html.parser')\n",
    "    \n",
    "        product_name = soup.find('h1', class_='typography typography_tag_h1 typography_weight_700 heading_heading__text__gP6AN heading_heading__text_level_1__7_duQ').text\n",
    "        \n",
    "        product_protein = re.sub(r'[,/:].+', ' ', re.sub(r'[А-я]', ' ', soup.find('div', class_='table_properties__SlSR7').text).split()[0])\n",
    "\n",
    "        product_fats = re.sub(r'[,/:].+', ' ', re.sub(r'[А-я]', ' ', soup.find('div', class_='table_properties__SlSR7').text).split()[1])\n",
    "\n",
    "        product_carbohydrate = re.sub(r'[,/:].+', ' ', re.sub(r'[А-я]', ' ', soup.find('div', class_='table_properties__SlSR7').text).split()[2])\n",
    "        if product_carbohydrate in '/ ':\n",
    "            product_carbohydrate = '0'\n",
    "\n",
    "        product_calorie = re.sub(r'[,/:].+', ' ', re.sub(r'[А-я]', ' ', soup.find('div', class_='table_properties__SlSR7').text).split()[3])\n",
    "        if product_calorie in '/ ':\n",
    "            product_calorie = product_carbohydrate\n",
    "            product_carbohydrate = '0'\n",
    "               \n",
    "        data = {'name':[product_name], 'protein':[product_protein], 'fats':[product_fats], 'carbohydrate':[product_carbohydrate], 'calorie':[product_calorie]}        \n",
    "\n",
    "        df = pd.DataFrame(data=data)\n",
    "\n",
    "        full_df = pd.concat([full_df, df])\n",
    "\n",
    "    except:\n",
    "        pass"
   ],
   "metadata": {
    "collapsed": false,
    "ExecuteTime": {
     "end_time": "2023-08-10T20:35:43.697414300Z",
     "start_time": "2023-08-10T20:29:26.697330400Z"
    },
    "pycharm": {
     "name": "#%%\n"
    }
   },
   "id": "9ad34428a97ef64f"
  },
  {
   "cell_type": "code",
   "execution_count": 105,
   "outputs": [],
   "source": [
    "full_df.to_csv('edostavka_products.csv', sep=';', index=False)"
   ],
   "metadata": {
    "collapsed": false,
    "ExecuteTime": {
     "end_time": "2023-08-10T20:37:17.549940400Z",
     "start_time": "2023-08-10T20:37:17.523622Z"
    },
    "pycharm": {
     "name": "#%%\n"
    }
   },
   "id": "33b3189c2ec7dfa6"
  },
  {
   "cell_type": "code",
   "execution_count": null,
   "outputs": [],
   "source": [],
   "metadata": {
    "collapsed": false,
    "ExecuteTime": {
     "end_time": "2023-08-10T09:17:22.599520200Z",
     "start_time": "2023-08-10T09:17:22.594799100Z"
    },
    "pycharm": {
     "name": "#%%\n"
    }
   },
   "id": "594f3bcfdea6c222"
  }
 ],
 "metadata": {
  "kernelspec": {
   "display_name": "Python 3",
   "language": "python",
   "name": "python3"
  },
  "language_info": {
   "codemirror_mode": {
    "name": "ipython",
    "version": 2
   },
   "file_extension": ".py",
   "mimetype": "text/x-python",
   "name": "python",
   "nbconvert_exporter": "python",
   "pygments_lexer": "ipython2",
   "version": "2.7.6"
  }
 },
 "nbformat": 4,
 "nbformat_minor": 5
}