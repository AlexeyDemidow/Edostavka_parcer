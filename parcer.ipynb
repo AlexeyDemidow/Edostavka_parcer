{
 "cells": [
  {
   "cell_type": "code",
   "execution_count": 2,
   "id": "initial_id",
   "metadata": {
    "collapsed": true,
    "ExecuteTime": {
     "end_time": "2023-08-07T15:20:37.502562900Z",
     "start_time": "2023-08-07T15:20:36.733921Z"
    }
   },
   "outputs": [],
   "source": [
    "# Парсинг КБЖУ продуктов сайта Е-доставка"
   ]
  },
  {
   "cell_type": "code",
   "execution_count": null,
   "outputs": [],
   "source": [
    "import requests\n",
    "from bs4 import BeautifulSoup\n",
    "from selenium import webdriver\n",
    "import time\n",
    "import re\n",
    "from selenium import webdriver\n",
    "from selenium.webdriver.chrome.service import Service as ChromeService\n",
    "from webdriver_manager.chrome import ChromeDriverManager\n",
    "import csv\n",
    "import os\n",
    "\n",
    "from selenium.webdriver.common.by import By\n",
    "from selenium.webdriver.chrome.options import Options\n",
    "from selenium.webdriver.support.ui import Select\n",
    "from selenium.webdriver.common.keys import Keys\n",
    "from selenium.webdriver.support.ui import WebDriverWait\n",
    "from selenium.webdriver.support import expected_conditions as EC\n",
    "from selenium.webdriver.common.action_chains import ActionChains\n",
    "from selenium.common.exceptions import TimeoutException\n",
    "\n",
    "import undetected_chromedriver as uc\n",
    "\n",
    "import pandas as pd\n",
    "\n",
    "from tqdm import tqdm"
   ],
   "metadata": {
    "collapsed": false
   },
   "id": "ea8390e71d2d9f90"
  },
  {
   "cell_type": "code",
   "execution_count": 3,
   "outputs": [],
   "source": [
    "driver = webdriver.Chrome(service=ChromeService(ChromeDriverManager().install()))"
   ],
   "metadata": {
    "collapsed": false,
    "ExecuteTime": {
     "end_time": "2023-08-07T14:42:33.944139400Z",
     "start_time": "2023-08-07T14:42:30.404929900Z"
    }
   },
   "id": "593c34276d220cc6"
  },
  {
   "cell_type": "code",
   "execution_count": 100,
   "outputs": [],
   "source": [
    "options = Options()\n",
    "# options.add_argument('--headless')\n",
    "# options.add_argument(\"--disable-infobars\")\n",
    "# options.add_argument(\"--disable-extensions\")\n",
    "options.add_argument(\"--start-maximized\")\n",
    "# options.add_argument('--blink-settings=imagesEnabled=false')\n",
    "driver = webdriver.Chrome(options=options)\n",
    "\n",
    "for i in range(1, 11): # Проверять количество страниц\n",
    "\n",
    "    # https://edostavka.by/category/5138?page={i} Овощи и фрукты\n",
    "    # https://edostavka.by/category/5194?page={i} Молоко и яйца\n",
    "    # https://edostavka.by/category/5329?page={i} Хлеб и выпечка \n",
    "    # https://edostavka.by/category/5131?page={i} Мясо, птица, колбасы\n",
    "    # https://edostavka.by/category/5185?page={i} Рыба, морепродукты\n",
    "    # https://edostavka.by/category/5258?page={i} Замороженные продукты\n",
    "    # https://edostavka.by/category/5150?page={i} Кофе, чай\n",
    "    # https://edostavka.by/category/5309?page={i} Вода, напитки\n",
    "    # https://edostavka.by/category/5034?page={i} Крупы, макароны, сахар\n",
    "    # https://edostavka.by/category/5199?page={i} Масло, консервация, соусы\n",
    "    # https://edostavka.by/category/5091?page={i} Чипсы, орехи, снеки\n",
    "    # https://edostavka.by/category/5160?page={i} Сладости\n",
    "    # https://edostavka.by/category/4996?page={i} Здоровое питание\n",
    "    # https://edostavka.by/category/4974?page={i} Кулинария\n",
    "    \n",
    "    driver.get(f'https://edostavka.by/category/5194?page={i}')\n",
    "    \n",
    "    html = driver.find_element(By.TAG_NAME, 'html')\n",
    "    for n in range(100):\n",
    "        html.send_keys(Keys.END)\n",
    "    \n",
    "    if driver.find_elements(By.XPATH, '/html/body/div[5]/div/div[2]/div/div[2]/button[2]'):\n",
    "        WebDriverWait(driver, 5).until(EC.element_to_be_clickable((By.XPATH, '/html/body/div[5]/div/div[2]/div/div[2]/button[2]'))).click()\n",
    "        for n in range(100):\n",
    "            html.send_keys(Keys.END)\n",
    "        \n",
    "        WebDriverWait(driver, 10).until(EC.presence_of_element_located((By.CLASS_NAME, 'card-image_link__lTrk0')))\n",
    "        soup = BeautifulSoup(driver.page_source, 'html.parser')\n",
    "        with open(f'category_products_page/pages/page_{i}.html', 'w', encoding=\"utf-8\") as file:\n",
    "            file.write(str(soup))\n",
    "    else:\n",
    "        driver.execute_script(\"window.scrollTo(0, 1080)\")\n",
    "        WebDriverWait(driver, 10).until(EC.presence_of_element_located((By.CLASS_NAME, 'card-image_link__lTrk0')))\n",
    "        soup = BeautifulSoup(driver.page_source, 'html.parser')\n",
    "        with open(f'category_products_page/pages/page_{i}.html', 'w', encoding=\"utf-8\") as file:\n",
    "            file.write(str(soup))\n",
    "\n",
    "driver.quit()"
   ],
   "metadata": {
    "collapsed": false,
    "ExecuteTime": {
     "end_time": "2023-08-07T20:12:43.574043400Z",
     "start_time": "2023-08-07T20:11:44.332830800Z"
    }
   },
   "id": "ed7584c910e3e5c6"
  },
  {
   "cell_type": "code",
   "execution_count": 101,
   "outputs": [],
   "source": [
    "product_links = []\n",
    "link = 'https://edostavka.by'\n",
    "for file in os.listdir('category_products_page/pages'):\n",
    "    soup = BeautifulSoup(open(f'category_products_page/pages/{file}', 'r', encoding=\"utf-8\").read(), 'html.parser')\n",
    "    for card_div_tag in soup.find_all('div', class_='adult-wrapper_adult__eCCJW vertical_product__Q8mUI'):\n",
    "        product_link = card_div_tag.find('a', class_='card-image_link__lTrk0').get('href')\n",
    "        product_link_ready = link + product_link\n",
    "        product_links.append(product_link_ready)"
   ],
   "metadata": {
    "collapsed": false,
    "ExecuteTime": {
     "end_time": "2023-08-07T20:12:49.610961400Z",
     "start_time": "2023-08-07T20:12:47.232300900Z"
    }
   },
   "id": "17b65b138ead3c0f"
  },
  {
   "cell_type": "code",
   "execution_count": 102,
   "outputs": [
    {
     "name": "stderr",
     "output_type": "stream",
     "text": [
      "100%|██████████| 1404/1404 [11:05<00:00,  2.11it/s]\n"
     ]
    }
   ],
   "source": [
    "options = Options()\n",
    "# options.add_argument('--headless')\n",
    "# options.add_argument(\"--disable-infobars\")\n",
    "# options.add_argument(\"--disable-extensions\")\n",
    "options.add_argument(\"--start-maximized\")\n",
    "options.add_argument('--blink-settings=imagesEnabled=false')\n",
    "driver = webdriver.Chrome(options=options)\n",
    "\n",
    "for product_link in tqdm(product_links):\n",
    "    product_id = product_link.split('https://edostavka.by/product/')[1]\n",
    "    if not f'{product_id}.html' in os.listdir('category_products_page/product_pages'):        \n",
    "        driver.get(product_link)\n",
    "        if driver.find_elements(By.XPATH, '/html/body/div[5]/div/div[2]/div/div[2]/button[2]'):\n",
    "            WebDriverWait(driver, 5).until(EC.element_to_be_clickable((By.XPATH, '/html/body/div[5]/div/div[2]/div/div[2]/button[2]'))).click()\n",
    "            driver.execute_script(\"window.scrollTo(0, 700)\")\n",
    "            if driver.find_elements(By.XPATH, '//*[@id=\"tab_specifications\"]'):\n",
    "                WebDriverWait(driver, 5).until(EC.element_to_be_clickable((By.XPATH, '//*[@id=\"tab_specifications\"]'))).click()\n",
    "            soup = BeautifulSoup(driver.page_source, 'html.parser')\n",
    "            with open(f'category_products_page/product_pages/{product_id}.html', 'w', encoding=\"utf-8\") as file:\n",
    "                file.write(str(soup))\n",
    "        else:\n",
    "            driver.execute_script(\"window.scrollTo(0, 700)\")\n",
    "            WebDriverWait(driver, 5).until(EC.element_to_be_clickable((By.XPATH, '//*[@id=\"tab_specifications\"]'))).click()\n",
    "            soup = BeautifulSoup(driver.page_source, 'html.parser')\n",
    "            with open(f'category_products_page/product_pages/{product_id}.html', 'w', encoding=\"utf-8\") as file:\n",
    "                file.write(str(soup))\n",
    "\n",
    "driver.quit()"
   ],
   "metadata": {
    "collapsed": false,
    "ExecuteTime": {
     "end_time": "2023-08-07T20:24:01.255112400Z",
     "start_time": "2023-08-07T20:12:52.861255100Z"
    }
   },
   "id": "f19b05fb121583de"
  },
  {
   "cell_type": "code",
   "execution_count": 103,
   "outputs": [
    {
     "name": "stderr",
     "output_type": "stream",
     "text": [
      "100%|██████████| 1567/1567 [01:29<00:00, 17.53it/s]\n"
     ]
    }
   ],
   "source": [
    "import re\n",
    "\n",
    "full_df = pd.DataFrame()\n",
    "\n",
    "for file in tqdm(os.listdir('category_products_page/product_pages')):\n",
    "    try:\n",
    "        soup = BeautifulSoup(open(f'category_products_page/product_pages/{file}', 'r', encoding=\"utf-8\").read(), 'html.parser')\n",
    "    \n",
    "        product_name = soup.find('h1', class_='typography typography_tag_h1 typography_weight_700 heading_heading__text__gP6AN heading_heading__text_level_1__7_duQ').text\n",
    "        product_protein = re.sub(r'[А-я]', ' ', soup.find('div', class_='table_properties__SlSR7').text).split()[0]\n",
    "        product_fats = re.sub(r'[А-я]', ' ', soup.find('div', class_='table_properties__SlSR7').text).split()[1]\n",
    "        product_carbohydrate = re.sub(r'[А-я]', ' ', soup.find('div', class_='table_properties__SlSR7').text).split()[2]\n",
    "        product_calorie = re.sub(r'[А-я]', ' ', soup.find('div', class_='table_properties__SlSR7').text).split()[3]\n",
    "        \n",
    "        data = {'name':[product_name], 'protein':[product_protein], 'fats':[product_fats], 'carbohydrate':[product_carbohydrate], 'calorie':[product_calorie]}\n",
    "\n",
    "        df = pd.DataFrame(data=data)\n",
    "\n",
    "        full_df = pd.concat([full_df, df])\n",
    "\n",
    "    except:\n",
    "        pass"
   ],
   "metadata": {
    "collapsed": false,
    "ExecuteTime": {
     "end_time": "2023-08-07T20:25:54.381637900Z",
     "start_time": "2023-08-07T20:24:24.968794400Z"
    }
   },
   "id": "9ad34428a97ef64f"
  },
  {
   "cell_type": "code",
   "execution_count": 104,
   "outputs": [],
   "source": [
    "full_df.to_csv('edostavka_products.csv', sep=';', index=False)"
   ],
   "metadata": {
    "collapsed": false,
    "ExecuteTime": {
     "end_time": "2023-08-07T20:26:15.312252900Z",
     "start_time": "2023-08-07T20:26:15.290664600Z"
    }
   },
   "id": "33b3189c2ec7dfa6"
  },
  {
   "cell_type": "code",
   "execution_count": null,
   "outputs": [],
   "source": [],
   "metadata": {
    "collapsed": false
   },
   "id": "594f3bcfdea6c222"
  }
 ],
 "metadata": {
  "kernelspec": {
   "display_name": "Python 3",
   "language": "python",
   "name": "python3"
  },
  "language_info": {
   "codemirror_mode": {
    "name": "ipython",
    "version": 2
   },
   "file_extension": ".py",
   "mimetype": "text/x-python",
   "name": "python",
   "nbconvert_exporter": "python",
   "pygments_lexer": "ipython2",
   "version": "2.7.6"
  }
 },
 "nbformat": 4,
 "nbformat_minor": 5
}
